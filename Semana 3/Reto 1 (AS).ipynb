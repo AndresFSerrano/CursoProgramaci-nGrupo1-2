{
 "cells": [
  {
   "cell_type": "markdown",
   "metadata": {},
   "source": [
    "RETO 1 (AS)"
   ]
  },
  {
   "cell_type": "code",
   "execution_count": null,
   "metadata": {},
   "outputs": [],
   "source": [
    "Valorunitario=float(input(\"Ingrese el valor unitario: \"))\n",
    "pregunta1=input(\"¿El producto cuenta con IVA?: \")\n",
    "SUBTOTAL=0\n",
    "if pregunta1==\"S\":\n",
    "  n=int(input(\"Ingrese la cantidad que lleva el cliente del producto a registrar: \"))\n",
    "  print(\"IVA incluído\")\n",
    "  SUBTOTAL=Valorunitario*n + 0.19*Valorunitario*n\n",
    "  print(f\"SUBTOTAL: {SUBTOTAL}\")\n",
    "elif pregunta1==\"N\":\n",
    "  n=int(input(\"Ingrese la cantidad que lleva el cliente del producto a registrar: \"))\n",
    "  print(\"PRODUCTO SIN IVA\")\n",
    "  SUBTOTAL=Valorunitario*n\n",
    "  print(f\"SUBTOTAL: {SUBTOTAL}\")\n",
    "\n",
    "pregunta2=input(\"¿Faltan productos por cobrar? S/N: \")\n",
    "condicion=(pregunta2==\"S\")\n",
    "while condicion==True:\n",
    "    \n",
    "    Valorunitario=float(input(\"Ingrese el valor unitario: \"))\n",
    "    pregunta3=input(\"¿El producto cuenta con IVA?: \")\n",
    "    if pregunta3==\"S\":\n",
    "      n=int(input(\"Ingrese la cantidad que lleva el cliente del producto a registrar: \"))\n",
    "      print(\"IVA incluído\")\n",
    "      SUBTOTAL=Valorunitario*n + 0.19*Valorunitario*n + SUBTOTAL\n",
    "      print(f\"SUBTOTAL: {SUBTOTAL}\")\n",
    "    elif pregunta3==\"N\":\n",
    "      n=int(input(\"Ingrese la cantidad que lleva el cliente del producto a registrar: \"))\n",
    "      print(\"PRODUCTO SIN IVA\")\n",
    "      SUBTOTAL=Valorunitario*n + SUBTOTAL\n",
    "      print(f\"SUBTOTAL: {SUBTOTAL}\")\n",
    "\n",
    "    pregunta2=input(\"¿Faltan productos por cobrar? S/N: \")\n",
    "    condicion=(pregunta2==\"S\")\n",
    "\n",
    "else:\n",
    "      TOTAL=SUBTOTAL\n",
    "      print(f\"TOTAL: {TOTAL}\")"
   ]
  }
 ],
 "metadata": {
  "language_info": {
   "name": "python"
  },
  "orig_nbformat": 4
 },
 "nbformat": 4,
 "nbformat_minor": 2
}

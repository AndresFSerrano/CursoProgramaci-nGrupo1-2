{
 "cells": [
  {
   "cell_type": "markdown",
   "metadata": {},
   "source": [
    "# Reto 1 (Nutricional) #"
   ]
  },
  {
   "cell_type": "markdown",
   "metadata": {},
   "source": [
    "**Carbohidrato** 60.1 g de peso\n",
    "\n",
    "**Frutas y verduras** 24.4 g de peso\n",
    "\n",
    "**Protenína** 30.5 g de peso"
   ]
  },
  {
   "cell_type": "code",
   "execution_count": 19,
   "metadata": {},
   "outputs": [
    {
     "name": "stdout",
     "output_type": "stream",
     "text": [
      "El estado nutricional del paciente es A y se requieren 231 dias de dieta para que alcance su peso saludable\n"
     ]
    }
   ],
   "source": [
    "from student_utilities import input, print\n",
    "\n",
    "def solucion(edad, peso):\n",
    "    edad=int(input('Indicar la edad del paciente: '))\n",
    "    peso=float(input('Indicar el peso del paciente en kilogramos: '))\n",
    "    \n",
    "    ac=60.1/1000\n",
    "    ap=30.5/1000\n",
    "    av=24.4/1000\n",
    "    \n",
    "    if edad>=5 and edad <=10:\n",
    "      if peso<16:\n",
    "        EstadoNutricional=\"A\"\n",
    "        PesoObjetivo=22\n",
    "      elif peso>28:\n",
    "        EstadoNutricional=\"B\"\n",
    "        PesoObjetivo=24\n",
    "      elif peso<28:\n",
    "        EstadoNutricional=\"C\"\n",
    "        PesoObjetivo=28\n",
    "      \n",
    "    if edad>10 and edad <=13:\n",
    "      if peso<30:\n",
    "        EstadoNutricional=\"A\"\n",
    "        PesoObjetivo=32\n",
    "      elif peso>50:\n",
    "        EstadoNutricional=\"B\"\n",
    "        PesoObjetivo=43\n",
    "      elif peso<50:\n",
    "        EstadoNutricional=\"C\"\n",
    "        PesoObjetivo=50\n",
    "      \n",
    "    if edad>13 and edad <=17:\n",
    "      if peso<51:\n",
    "        EstadoNutricional=\"A\"\n",
    "        PesoObjetivo=56\n",
    "      elif peso>63:\n",
    "        EstadoNutricional=\"B\"\n",
    "        PesoObjetivo=58\n",
    "      elif peso<63:\n",
    "        EstadoNutricional=\"C\"\n",
    "        PesoObjetivo=63\n",
    "      \n",
    "    if EstadoNutricional==\"A\":\n",
    "      pc=2\n",
    "      pp=1\n",
    "      pv=2\n",
    "      mensaje=\"un peso saludable\"\n",
    "      k=0\n",
    "    elif EstadoNutricional==\"B\":\n",
    "      pc=0.6\n",
    "      pp=1\n",
    "      pv=4\n",
    "      mensaje=\"un peso saludable\"\n",
    "      k=1\n",
    "    elif EstadoNutricional==\"C\":\n",
    "      pc=0.5\n",
    "      pp=0.7\n",
    "      pv=2\n",
    "      mensaje=\"el peso maximo\"\n",
    "      if peso>55:\n",
    "        k=0\n",
    "      else:\n",
    "        k=1\n",
    "    \n",
    "    aporteNutricional=abs(ac*pc+ap*pp-av*pv)\n",
    "    pesoCompensar=abs(PesoObjetivo-peso)\n",
    "    dias=int(round(pesoCompensar/aporteNutricional,0))+k\n",
    "    \n",
    "    print(f'El estado nutricional del paciente es {EstadoNutricional} y se requieren {dias} dias de dieta para que alcance {mensaje}')"
   ]
  }
 ],
 "metadata": {
  "kernelspec": {
   "display_name": "Python 3.9.7 ('base')",
   "language": "python",
   "name": "python3"
  },
  "language_info": {
   "codemirror_mode": {
    "name": "ipython",
    "version": 3
   },
   "file_extension": ".py",
   "mimetype": "text/x-python",
   "name": "python",
   "nbconvert_exporter": "python",
   "pygments_lexer": "ipython3",
   "version": "3.9.7"
  },
  "orig_nbformat": 4,
  "vscode": {
   "interpreter": {
    "hash": "329665b8f65c3461028bc77db2f6cd62d5c9fe66dc7986b2858d5fed83530e17"
   }
  }
 },
 "nbformat": 4,
 "nbformat_minor": 2
}

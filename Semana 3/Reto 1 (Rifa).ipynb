{
 "cells": [
  {
   "cell_type": "markdown",
   "metadata": {},
   "source": [
    "# Reto 1 (Rifa) #"
   ]
  },
  {
   "cell_type": "code",
   "execution_count": 4,
   "metadata": {},
   "outputs": [
    {
     "name": "stdout",
     "output_type": "stream",
     "text": [
      "¡Te saliste del intervalo!\n",
      "¡Te saliste del intervalo!\n",
      "¡Te saliste del intervalo!\n",
      "!Ups! Te pasastes\n",
      "!Ups! Te pasastes\n",
      "!Ups! Te pasastes\n",
      "!Ups! Estás por debajo\n",
      "!Ups! Estás por debajo\n",
      "!Ups! Estás por debajo\n",
      "Adivinó el número 22 con 7 intentos\n"
     ]
    }
   ],
   "source": [
    "n=22\n",
    "b=30\n",
    "g=int(input('Inserte un número: '))\n",
    "while g<0: \n",
    "        print('¡Te saliste del intervalo!')\n",
    "        g=int(input('Inserte un número: '))\n",
    "dif=g-n\n",
    "i=1 #contador (lleva un intento)\n",
    "while (dif!=0):\n",
    "        while  True:\n",
    "                    while g>b:\n",
    "                        print(\"¡Te saliste del intervalo!\")\n",
    "                        g=int(input('Inserte un número: '))\n",
    "                        while g<0: \n",
    "                          print('¡Te saliste del intervalo!')\n",
    "                          g=int(input('Inserte un número: '))\n",
    "                        dif=g-n\n",
    "                        break\n",
    "                    if dif>0:\n",
    "                        print(\"!Ups! Te pasastes\")\n",
    "                        g=int(input('Inserte un número: '))\n",
    "                        while g<0: \n",
    "                          print('¡Te saliste del intervalo!')\n",
    "                          g=int(input('Inserte un número: '))\n",
    "                        dif=g-n\n",
    "                        break\n",
    "                        \n",
    "                    if dif<0:\n",
    "                        print(\"!Ups! Estás por debajo\")\n",
    "                        g=int(input('Inserte un número: '))\n",
    "                        while g<0: \n",
    "                          print('¡Te saliste del intervalo!')\n",
    "                          g=int(input('Inserte un número: '))\n",
    "                        dif=g-n\n",
    "                        break\n",
    "            \n",
    "            \n",
    "        i=i+1\n",
    "\n",
    "print(f'Adivinó el número {n} con {i} intentos')\n",
    "         "
   ]
  }
 ],
 "metadata": {
  "kernelspec": {
   "display_name": "Python 3.9.7 ('base')",
   "language": "python",
   "name": "python3"
  },
  "language_info": {
   "codemirror_mode": {
    "name": "ipython",
    "version": 3
   },
   "file_extension": ".py",
   "mimetype": "text/x-python",
   "name": "python",
   "nbconvert_exporter": "python",
   "pygments_lexer": "ipython3",
   "version": "3.9.7"
  },
  "orig_nbformat": 4,
  "vscode": {
   "interpreter": {
    "hash": "329665b8f65c3461028bc77db2f6cd62d5c9fe66dc7986b2858d5fed83530e17"
   }
  }
 },
 "nbformat": 4,
 "nbformat_minor": 2
}

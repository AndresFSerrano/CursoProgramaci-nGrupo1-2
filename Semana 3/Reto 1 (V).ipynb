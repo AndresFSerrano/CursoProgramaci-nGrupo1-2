{
 "cells": [
  {
   "cell_type": "markdown",
   "metadata": {},
   "source": [
    "RETO 1 (V)"
   ]
  },
  {
   "cell_type": "code",
   "execution_count": null,
   "metadata": {},
   "outputs": [],
   "source": [
    "print(\"¡Bienvenido! En esta aplicación los estudiantes podrán gestionar las notas de su materia.\")\n",
    "nombre=input(\"Ingrese su nombre como estudiante : \")\n",
    "materia=input(\"Ingrese el nombre de la materia \")\n",
    "porcentaje=0\n",
    "\n",
    "notas=float(input(\"Ingrese la nota obtenida : \"))\n",
    "porcentaje=float(input(\"Ingrese el porcentaje de la nota: \"))\n",
    "acumulado=notas*porcentaje\n",
    "\n",
    "while porcentaje<=100:\n",
    "    pregunta=input(\"¿Falta añadir notas? S/N \")\n",
    "    if pregunta==\"S\":\n",
    "        notasi=float(input(\"Ingrese la nota obtenida: \"))\n",
    "        porcentajei=float(input(\"Ingrese el porcentaje de la nota: \"))\n",
    "        porcentaje = porcentaje + porcentajei\n",
    "        acumulado=notasi*porcentajei + acumulado \n",
    "\n",
    "else:\n",
    "    print(\"El porcentaje evaluado de una materia no puede ser mayor a 100\")\n",
    "    porcentaje=porcentaje-porcentajei\n",
    "    acumulado=acumulado-notasi*porcentajei\n",
    "    notasi=float(input(\"Ingrese la nota obtenida: \"))\n",
    "    porcentajei=float(input(\"Ingrese el porcentaje de la nota: \"))\n",
    "    porcentaje = porcentaje + porcentajei\n",
    "    acumulado=notasi*porcentajei + acumulado \n",
    "    \n",
    "\n",
    "if acumulado>=3.0:\n",
    "      resultadodeaprobacion=\"aprobado\"\n",
    "else:\n",
    "      resultadodeaprobacion=\"reprobado\"\n",
    "\n",
    "    \n",
    "acumulado=acumulado/100\n",
    "acumulado=round(acumulado,2)\n",
    "print(f'El estudiante {nombre} cursó la materia {materia} y obtuvo {acumulado} resultando en {resultadodeaprobacion}')\n"
   ]
  }
 ],
 "metadata": {
  "interpreter": {
   "hash": "cd612740cd098dc367cdea549e830067c6126d07bf7b3d988ca86d5436a56743"
  },
  "kernelspec": {
   "display_name": "Python 3.10.4 64-bit",
   "language": "python",
   "name": "python3"
  },
  "language_info": {
   "codemirror_mode": {
    "name": "ipython",
    "version": 3
   },
   "file_extension": ".py",
   "mimetype": "text/x-python",
   "name": "python",
   "nbconvert_exporter": "python",
   "pygments_lexer": "ipython3",
   "version": "3.10.4"
  },
  "orig_nbformat": 4
 },
 "nbformat": 4,
 "nbformat_minor": 2
}

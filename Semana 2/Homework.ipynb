{
 "cells": [
  {
   "cell_type": "markdown",
   "metadata": {},
   "source": [
    "Cree un programa que solicite base y altura, calcule e imprima el area de un triángulo."
   ]
  },
  {
   "cell_type": "code",
   "execution_count": 26,
   "metadata": {},
   "outputs": [
    {
     "name": "stdout",
     "output_type": "stream",
     "text": [
      "\n",
      "El Área del triangulo es :  1.0\n"
     ]
    }
   ],
   "source": [
    "#Base del triángulo\n",
    "Base=input(\"Ingrese la medida de la base del triangulo: \")\n",
    "#Altura del triangulo\n",
    "Altura=input(\"Ingrese la medida de la altura del triangulo: \")\n",
    "#Convirtiendo las cadenas a números en coma flotante (Reales)\n",
    "Base=float(Base)\n",
    "Altura=float(Altura)\n",
    "#Cálculo del área del triangulo\n",
    "\n",
    "Area=(Base*Altura*0.5)\n",
    "\n",
    "print('\\nEl Área del triangulo es : ', Area)"
   ]
  },
  {
   "cell_type": "markdown",
   "metadata": {},
   "source": [
    "Cree un programa que pida el radio de un circulo e imprima la circunferencia."
   ]
  },
  {
   "cell_type": "code",
   "execution_count": 27,
   "metadata": {},
   "outputs": [
    {
     "name": "stdout",
     "output_type": "stream",
     "text": [
      "\n",
      " El área de la circunferencia es :  28.274333882308138\n"
     ]
    }
   ],
   "source": [
    "import math as m \n",
    "#Radio de circunferencia\n",
    "radio=float(input('Ingrese el radio'))\n",
    "#Creando la variable pi\n",
    "pi=m.pi\n",
    "#Cálculo de área de la circunferencia\n",
    "AreaCircunferencia=pi*radio**2\n",
    "print(\"\\n El área de la circunferencia es : \", AreaCircunferencia)"
   ]
  },
  {
   "cell_type": "markdown",
   "metadata": {},
   "source": [
    "Cree un programa que pida un angulo y regrese el seno, el coseno y la tangente del mismo. Pista: use la clase math. https://www.w3schools.com/python/module_math.asp"
   ]
  },
  {
   "cell_type": "code",
   "execution_count": 28,
   "metadata": {},
   "outputs": [
    {
     "name": "stdout",
     "output_type": "stream",
     "text": [
      "El ángulo utilizado en radianes fue:  4.0\n",
      "El seno de alpha es : -0.7568024953079282\n",
      "El coseno de alpha es : -0.6536436208636119\n",
      "La tangente de alpha es : 1.1578212823495777\n"
     ]
    }
   ],
   "source": [
    "#Solicitar ángulo al usuario\n",
    "import math as m \n",
    "\n",
    "pi=m.pi\n",
    "alpha=float(input('Ingrese el ángulo a trabajar: (en radianes) '))\n",
    "seno=m.sin(alpha)\n",
    "coseno=m.cos(alpha)\n",
    "tangente=m.tan(alpha)\n",
    "\n",
    "print('El ángulo utilizado en radianes fue: ', alpha)\n",
    "print('El seno de alpha es :', seno)\n",
    "print('El coseno de alpha es :', coseno)\n",
    "print('La tangente de alpha es :', tangente)\n"
   ]
  },
  {
   "cell_type": "markdown",
   "metadata": {},
   "source": [
    "Desarrolle un programa que solicite 3 notas de un estudiante y retorne la calificación final con un mensaje que indique si el estudiante pasó o no pasó el curso. Tome en cuenta que, la primera nota equivale al 30% de la notal final, la segunda nota equivale al 30% de la nota final y la tercera nota equivale al 40% de la nota final."
   ]
  },
  {
   "cell_type": "code",
   "execution_count": 29,
   "metadata": {},
   "outputs": [
    {
     "name": "stdout",
     "output_type": "stream",
     "text": [
      "Calificaciones del 0 al 5\n",
      "Usted no arpobó, le faltó :  1.3 para poder aprobar la asignatura\n"
     ]
    }
   ],
   "source": [
    "print('Calificaciones del 0 al 5')\n",
    "nota1=float(input('Ingrese la primer nota :'))\n",
    "nota2=float(input('Ingrese la segunda nota :'))\n",
    "nota3=float(input('Ingrese la tercera nota :'))\n",
    "porcentaje1=30/100\n",
    "porcentaje2=30/100\n",
    "porcentaje3=40/100\n",
    "notafinal=nota1*porcentaje1+nota2*porcentaje2+nota3*porcentaje3\n",
    "\n",
    "if notafinal>=3.0: \n",
    "    print(\"Usted aprobó la asignatura con una nota igual a : \", notafinal)\n",
    "\n",
    "else:\n",
    "    notafaltante=3.0-notafinal\n",
    "    print(\"Usted no arpobó, le faltó : \", notafaltante, \"para poder aprobar la asignatura\")"
   ]
  }
 ],
 "metadata": {
  "interpreter": {
   "hash": "cd612740cd098dc367cdea549e830067c6126d07bf7b3d988ca86d5436a56743"
  },
  "kernelspec": {
   "display_name": "Python 3.10.4 64-bit",
   "language": "python",
   "name": "python3"
  },
  "language_info": {
   "codemirror_mode": {
    "name": "ipython",
    "version": 3
   },
   "file_extension": ".py",
   "mimetype": "text/x-python",
   "name": "python",
   "nbconvert_exporter": "python",
   "pygments_lexer": "ipython3",
   "version": "3.10.4"
  },
  "orig_nbformat": 4
 },
 "nbformat": 4,
 "nbformat_minor": 2
}

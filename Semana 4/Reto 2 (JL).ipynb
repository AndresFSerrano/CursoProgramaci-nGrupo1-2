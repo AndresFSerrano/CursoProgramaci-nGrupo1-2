{
 "cells": [
  {
   "cell_type": "markdown",
   "metadata": {},
   "source": [
    "# Reto 2 - Cuadro de honor #"
   ]
  },
  {
   "cell_type": "code",
   "execution_count": null,
   "metadata": {},
   "outputs": [],
   "source": [
    "estudiante1={'cédula':'00014301503','nombre':'Pepito','nota_fundamentos':4.3}\n",
    "estudiante2={'cédula':'1037678471','nombre':'Fulanito','nota_fundamentos':3.2}\n",
    "estudiante3={'cédula':'71023567','nombre':'Pancho','nota_fundamentos':5}\n",
    "estudiante4={'cédula':'32276123','nombre':'Rita','nota_fundamentos':4.7}\n",
    "estudiante5={'cédula':'1036765245','nombre':'Pedrita','nota_fundamentos':4.7}\n",
    "estudiante6={'cédula':'89122456','nombre':'Pedrito','nota_fundamentos':4.7}\n",
    "estudiante7={'cédula':'289765345','nombre':'Mat','nota_fundamentos':4.8}\n",
    "estudiante8={'cédula':'4576890','nombre':'Dan','nota_fundamentos':4.8}\n",
    "\n",
    "grupo=[estudiante1,estudiante2,estudiante3,estudiante4,estudiante5,estudiante6,estudiante7,estudiante8]\n"
   ]
  },
  {
   "cell_type": "code",
   "execution_count": 1,
   "metadata": {},
   "outputs": [],
   "source": [
    "def calcular_promedio_y_cuadro_honor(grupo) :\n",
    "    #ACÁ INICIA LA FUNCIÓN SOLUCIÓN (En este espacio debes entregar tu solución)\n",
    "    \n",
    "    from operator import itemgetter, attrgetter\n",
    "    lista=[]\n",
    "    for estudiante in grupo:\n",
    "      a=estudiante['cédula']\n",
    "      b=estudiante['nota_fundamentos']\n",
    "      k=(a,b)\n",
    "      lista.append(k)\n",
    "    \n",
    "    organizados=sorted(lista,key=itemgetter(1),reverse=True)\n",
    "    notas=[]\n",
    "    tuplas=[]\n",
    "    j=0\n",
    "    for k in organizados:\n",
    "      tupla=k\n",
    "      tuplas.append(k)\n",
    "      notas.append(tupla[1])\n",
    "    \n",
    "    promedio= sum(notas)/len(notas)\n",
    "    \n",
    "    unicos=sorted(list(set(notas)),reverse=True)\n",
    "    nota1=unicos[0]\n",
    "    nota2=unicos[1]\n",
    "    nota3=unicos[2]\n",
    "    p1=[]\n",
    "    p2=[]\n",
    "    p3=[]\n",
    "    for m in tuplas:\n",
    "      if m[1]==nota1:\n",
    "        p1.append(m[0])\n",
    "      elif m[1]==nota2:\n",
    "        p2.append(m[0])\n",
    "      elif m[1]==nota3:\n",
    "        p3.append(m[0])\n",
    "    \n",
    "    cuadro_honor={1:p1,2:p2,3:p3}\n",
    "    \n",
    "    #ACÁ TERMINA LA FUNCIÓN SOLUCIÓN\n",
    "    return promedio, cuadro_honor"
   ]
  }
 ],
 "metadata": {
  "kernelspec": {
   "display_name": "Python 3.9.7 ('base')",
   "language": "python",
   "name": "python3"
  },
  "language_info": {
   "codemirror_mode": {
    "name": "ipython",
    "version": 3
   },
   "file_extension": ".py",
   "mimetype": "text/x-python",
   "name": "python",
   "nbconvert_exporter": "python",
   "pygments_lexer": "ipython3",
   "version": "3.9.7"
  },
  "orig_nbformat": 4,
  "vscode": {
   "interpreter": {
    "hash": "329665b8f65c3461028bc77db2f6cd62d5c9fe66dc7986b2858d5fed83530e17"
   }
  }
 },
 "nbformat": 4,
 "nbformat_minor": 2
}

{
 "cells": [
  {
   "cell_type": "code",
   "execution_count": 14,
   "metadata": {},
   "outputs": [
    {
     "name": "stdout",
     "output_type": "stream",
     "text": [
      "^C\n"
     ]
    }
   ],
   "source": [
    "!pip3 install pandas --upgrade"
   ]
  },
  {
   "cell_type": "code",
   "execution_count": 2,
   "metadata": {},
   "outputs": [
    {
     "data": {
      "text/html": [
       "<div>\n",
       "<style scoped>\n",
       "    .dataframe tbody tr th:only-of-type {\n",
       "        vertical-align: middle;\n",
       "    }\n",
       "\n",
       "    .dataframe tbody tr th {\n",
       "        vertical-align: top;\n",
       "    }\n",
       "\n",
       "    .dataframe thead th {\n",
       "        text-align: right;\n",
       "    }\n",
       "</style>\n",
       "<table border=\"1\" class=\"dataframe\">\n",
       "  <thead>\n",
       "    <tr style=\"text-align: right;\">\n",
       "      <th></th>\n",
       "      <th>Nombre</th>\n",
       "      <th>Género</th>\n",
       "      <th>Ciudad</th>\n",
       "      <th>Edad</th>\n",
       "    </tr>\n",
       "  </thead>\n",
       "  <tbody>\n",
       "    <tr>\n",
       "      <th>Uno</th>\n",
       "      <td>Helena</td>\n",
       "      <td>F</td>\n",
       "      <td>Bucaramanga</td>\n",
       "      <td>12</td>\n",
       "    </tr>\n",
       "    <tr>\n",
       "      <th>Dos</th>\n",
       "      <td>Esteban</td>\n",
       "      <td>M</td>\n",
       "      <td>Medellin</td>\n",
       "      <td>22</td>\n",
       "    </tr>\n",
       "    <tr>\n",
       "      <th>Tres</th>\n",
       "      <td>Edith</td>\n",
       "      <td>F</td>\n",
       "      <td>Bucaramanga</td>\n",
       "      <td>59</td>\n",
       "    </tr>\n",
       "    <tr>\n",
       "      <th>Cuatro</th>\n",
       "      <td>Jairo</td>\n",
       "      <td>M</td>\n",
       "      <td>Cúcuta</td>\n",
       "      <td>58</td>\n",
       "    </tr>\n",
       "    <tr>\n",
       "      <th>Cinco</th>\n",
       "      <td>Jose</td>\n",
       "      <td>M</td>\n",
       "      <td>Cali</td>\n",
       "      <td>45</td>\n",
       "    </tr>\n",
       "  </tbody>\n",
       "</table>\n",
       "</div>"
      ],
      "text/plain": [
       "         Nombre Género       Ciudad Edad\n",
       "Uno      Helena      F  Bucaramanga   12\n",
       "Dos     Esteban      M     Medellin   22\n",
       "Tres      Edith      F  Bucaramanga   59\n",
       "Cuatro    Jairo      M       Cúcuta   58\n",
       "Cinco      Jose      M         Cali   45"
      ]
     },
     "execution_count": 2,
     "metadata": {},
     "output_type": "execute_result"
    }
   ],
   "source": [
    "import pandas as pd \n",
    "import matplotlib.pyplot as plt\n",
    "datos=[ [\"Helena\",\"F\",\"Bucaramanga\",\"12\"],[\"Esteban\",\"M\",\"Medellin\",\"22\"],[\"Edith\",\"F\",\"Bucaramanga\",\"59\"],[\"Jairo\",\"M\",\"Cúcuta\",\"58\"],[\"Jose\",\"M\",\"Cali\",\"45\"]]\n",
    "headers=[\"Nombre\",\"Género\",\"Ciudad\",\"Edad\"]\n",
    "indices=[\"Uno\",\"Dos\",\"Tres\",\"Cuatro\",\"Cinco\"]\n",
    "\n",
    "df=pd.DataFrame(datos, index=indices,columns=headers)\n",
    "df"
   ]
  },
  {
   "cell_type": "code",
   "execution_count": 11,
   "metadata": {},
   "outputs": [
    {
     "data": {
      "text/html": [
       "<div>\n",
       "<style scoped>\n",
       "    .dataframe tbody tr th:only-of-type {\n",
       "        vertical-align: middle;\n",
       "    }\n",
       "\n",
       "    .dataframe tbody tr th {\n",
       "        vertical-align: top;\n",
       "    }\n",
       "\n",
       "    .dataframe thead th {\n",
       "        text-align: right;\n",
       "    }\n",
       "</style>\n",
       "<table border=\"1\" class=\"dataframe\">\n",
       "  <thead>\n",
       "    <tr style=\"text-align: right;\">\n",
       "      <th></th>\n",
       "      <th>Nombre</th>\n",
       "      <th>Género</th>\n",
       "      <th>Ciudad</th>\n",
       "      <th>Edad</th>\n",
       "      <th>Telefono</th>\n",
       "    </tr>\n",
       "  </thead>\n",
       "  <tbody>\n",
       "    <tr>\n",
       "      <th>Uno</th>\n",
       "      <td>Helena</td>\n",
       "      <td>F</td>\n",
       "      <td>Bucaramanga</td>\n",
       "      <td>12</td>\n",
       "      <td>3212353255</td>\n",
       "    </tr>\n",
       "    <tr>\n",
       "      <th>Dos</th>\n",
       "      <td>Esteban</td>\n",
       "      <td>M</td>\n",
       "      <td>Medellin</td>\n",
       "      <td>22</td>\n",
       "      <td>3189456214</td>\n",
       "    </tr>\n",
       "    <tr>\n",
       "      <th>Tres</th>\n",
       "      <td>Edith</td>\n",
       "      <td>F</td>\n",
       "      <td>Bucaramanga</td>\n",
       "      <td>59</td>\n",
       "      <td>3158052333</td>\n",
       "    </tr>\n",
       "    <tr>\n",
       "      <th>Cuatro</th>\n",
       "      <td>Jairo</td>\n",
       "      <td>M</td>\n",
       "      <td>Cúcuta</td>\n",
       "      <td>58</td>\n",
       "      <td>3213213214</td>\n",
       "    </tr>\n",
       "    <tr>\n",
       "      <th>Cinco</th>\n",
       "      <td>Jose</td>\n",
       "      <td>M</td>\n",
       "      <td>Cali</td>\n",
       "      <td>45</td>\n",
       "      <td>3001234567</td>\n",
       "    </tr>\n",
       "  </tbody>\n",
       "</table>\n",
       "</div>"
      ],
      "text/plain": [
       "         Nombre Género       Ciudad Edad    Telefono\n",
       "Uno      Helena      F  Bucaramanga   12  3212353255\n",
       "Dos     Esteban      M     Medellin   22  3189456214\n",
       "Tres      Edith      F  Bucaramanga   59  3158052333\n",
       "Cuatro    Jairo      M       Cúcuta   58  3213213214\n",
       "Cinco      Jose      M         Cali   45  3001234567"
      ]
     },
     "execution_count": 11,
     "metadata": {},
     "output_type": "execute_result"
    }
   ],
   "source": [
    "df[\"Telefono\"]=[\"3212353255\",\"3189456214\",\"3158052333\",\"3213213214\",\"3001234567\"]\n",
    "df"
   ]
  },
  {
   "cell_type": "code",
   "execution_count": 12,
   "metadata": {},
   "outputs": [
    {
     "data": {
      "text/plain": [
       "dtype('O')"
      ]
     },
     "execution_count": 12,
     "metadata": {},
     "output_type": "execute_result"
    }
   ],
   "source": [
    "df[\"Edad\"].dtype"
   ]
  },
  {
   "cell_type": "code",
   "execution_count": 13,
   "metadata": {},
   "outputs": [],
   "source": [
    "df[\"Edad\"]=pd.to_numeric(df[\"Edad\"])"
   ]
  },
  {
   "cell_type": "code",
   "execution_count": 14,
   "metadata": {},
   "outputs": [
    {
     "data": {
      "text/plain": [
       "dtype('int64')"
      ]
     },
     "execution_count": 14,
     "metadata": {},
     "output_type": "execute_result"
    }
   ],
   "source": [
    "df[\"Edad\"].dtype"
   ]
  },
  {
   "cell_type": "code",
   "execution_count": 16,
   "metadata": {},
   "outputs": [
    {
     "data": {
      "text/html": [
       "<div>\n",
       "<style scoped>\n",
       "    .dataframe tbody tr th:only-of-type {\n",
       "        vertical-align: middle;\n",
       "    }\n",
       "\n",
       "    .dataframe tbody tr th {\n",
       "        vertical-align: top;\n",
       "    }\n",
       "\n",
       "    .dataframe thead th {\n",
       "        text-align: right;\n",
       "    }\n",
       "</style>\n",
       "<table border=\"1\" class=\"dataframe\">\n",
       "  <thead>\n",
       "    <tr style=\"text-align: right;\">\n",
       "      <th></th>\n",
       "      <th>Nombre</th>\n",
       "      <th>Género</th>\n",
       "      <th>Ciudad</th>\n",
       "      <th>Edad</th>\n",
       "      <th>Telefono</th>\n",
       "    </tr>\n",
       "  </thead>\n",
       "  <tbody>\n",
       "    <tr>\n",
       "      <th>Tres</th>\n",
       "      <td>Edith</td>\n",
       "      <td>F</td>\n",
       "      <td>Bucaramanga</td>\n",
       "      <td>59</td>\n",
       "      <td>3158052333</td>\n",
       "    </tr>\n",
       "    <tr>\n",
       "      <th>Cuatro</th>\n",
       "      <td>Jairo</td>\n",
       "      <td>M</td>\n",
       "      <td>Cúcuta</td>\n",
       "      <td>58</td>\n",
       "      <td>3213213214</td>\n",
       "    </tr>\n",
       "  </tbody>\n",
       "</table>\n",
       "</div>"
      ],
      "text/plain": [
       "       Nombre Género       Ciudad  Edad    Telefono\n",
       "Tres    Edith      F  Bucaramanga    59  3158052333\n",
       "Cuatro  Jairo      M       Cúcuta    58  3213213214"
      ]
     },
     "execution_count": 16,
     "metadata": {},
     "output_type": "execute_result"
    }
   ],
   "source": [
    "df[(df[\"Edad\"])>50] #Filtro de un data frame"
   ]
  },
  {
   "cell_type": "code",
   "execution_count": 20,
   "metadata": {},
   "outputs": [
    {
     "data": {
      "text/html": [
       "<div>\n",
       "<style scoped>\n",
       "    .dataframe tbody tr th:only-of-type {\n",
       "        vertical-align: middle;\n",
       "    }\n",
       "\n",
       "    .dataframe tbody tr th {\n",
       "        vertical-align: top;\n",
       "    }\n",
       "\n",
       "    .dataframe thead th {\n",
       "        text-align: right;\n",
       "    }\n",
       "</style>\n",
       "<table border=\"1\" class=\"dataframe\">\n",
       "  <thead>\n",
       "    <tr style=\"text-align: right;\">\n",
       "      <th></th>\n",
       "      <th>Nombre</th>\n",
       "      <th>Género</th>\n",
       "      <th>Ciudad</th>\n",
       "      <th>Edad</th>\n",
       "      <th>Telefono</th>\n",
       "    </tr>\n",
       "  </thead>\n",
       "  <tbody>\n",
       "    <tr>\n",
       "      <th>Uno</th>\n",
       "      <td>Helena</td>\n",
       "      <td>F</td>\n",
       "      <td>Bucaramanga</td>\n",
       "      <td>12</td>\n",
       "      <td>3212353255</td>\n",
       "    </tr>\n",
       "    <tr>\n",
       "      <th>Tres</th>\n",
       "      <td>Edith</td>\n",
       "      <td>F</td>\n",
       "      <td>Bucaramanga</td>\n",
       "      <td>59</td>\n",
       "      <td>3158052333</td>\n",
       "    </tr>\n",
       "  </tbody>\n",
       "</table>\n",
       "</div>"
      ],
      "text/plain": [
       "      Nombre Género       Ciudad  Edad    Telefono\n",
       "Uno   Helena      F  Bucaramanga    12  3212353255\n",
       "Tres   Edith      F  Bucaramanga    59  3158052333"
      ]
     },
     "execution_count": 20,
     "metadata": {},
     "output_type": "execute_result"
    }
   ],
   "source": [
    "df[(df[\"Ciudad\"]==\"Bucaramanga\")]"
   ]
  },
  {
   "cell_type": "code",
   "execution_count": 36,
   "metadata": {},
   "outputs": [
    {
     "data": {
      "text/html": [
       "<div>\n",
       "<style scoped>\n",
       "    .dataframe tbody tr th:only-of-type {\n",
       "        vertical-align: middle;\n",
       "    }\n",
       "\n",
       "    .dataframe tbody tr th {\n",
       "        vertical-align: top;\n",
       "    }\n",
       "\n",
       "    .dataframe thead th {\n",
       "        text-align: right;\n",
       "    }\n",
       "</style>\n",
       "<table border=\"1\" class=\"dataframe\">\n",
       "  <thead>\n",
       "    <tr style=\"text-align: right;\">\n",
       "      <th></th>\n",
       "      <th>Nombre</th>\n",
       "      <th>Género</th>\n",
       "      <th>Ciudad</th>\n",
       "      <th>Edad</th>\n",
       "      <th>Telefono</th>\n",
       "    </tr>\n",
       "  </thead>\n",
       "  <tbody>\n",
       "    <tr>\n",
       "      <th>Uno</th>\n",
       "      <td>Helena</td>\n",
       "      <td>F</td>\n",
       "      <td>Bucaramanga</td>\n",
       "      <td>12</td>\n",
       "      <td>3212353255</td>\n",
       "    </tr>\n",
       "    <tr>\n",
       "      <th>Tres</th>\n",
       "      <td>Edith</td>\n",
       "      <td>F</td>\n",
       "      <td>Bucaramanga</td>\n",
       "      <td>59</td>\n",
       "      <td>3158052333</td>\n",
       "    </tr>\n",
       "  </tbody>\n",
       "</table>\n",
       "</div>"
      ],
      "text/plain": [
       "      Nombre Género       Ciudad  Edad    Telefono\n",
       "Uno   Helena      F  Bucaramanga    12  3212353255\n",
       "Tres   Edith      F  Bucaramanga    59  3158052333"
      ]
     },
     "execution_count": 36,
     "metadata": {},
     "output_type": "execute_result"
    }
   ],
   "source": [
    "clave=input(\"Ingrese lo que desea buscar: \")\n",
    "df[df.Ciudad.str.contains(clave)]"
   ]
  },
  {
   "cell_type": "code",
   "execution_count": 31,
   "metadata": {},
   "outputs": [
    {
     "data": {
      "text/html": [
       "<div>\n",
       "<style scoped>\n",
       "    .dataframe tbody tr th:only-of-type {\n",
       "        vertical-align: middle;\n",
       "    }\n",
       "\n",
       "    .dataframe tbody tr th {\n",
       "        vertical-align: top;\n",
       "    }\n",
       "\n",
       "    .dataframe thead th {\n",
       "        text-align: right;\n",
       "    }\n",
       "</style>\n",
       "<table border=\"1\" class=\"dataframe\">\n",
       "  <thead>\n",
       "    <tr style=\"text-align: right;\">\n",
       "      <th></th>\n",
       "      <th>Nombre</th>\n",
       "      <th>Género</th>\n",
       "      <th>Ciudad</th>\n",
       "      <th>Edad</th>\n",
       "      <th>Telefono</th>\n",
       "    </tr>\n",
       "  </thead>\n",
       "  <tbody>\n",
       "    <tr>\n",
       "      <th>Uno</th>\n",
       "      <td>Helena</td>\n",
       "      <td>F</td>\n",
       "      <td>Bucaramanga</td>\n",
       "      <td>12</td>\n",
       "      <td>3212353255</td>\n",
       "    </tr>\n",
       "  </tbody>\n",
       "</table>\n",
       "</div>"
      ],
      "text/plain": [
       "     Nombre Género       Ciudad  Edad    Telefono\n",
       "Uno  Helena      F  Bucaramanga    12  3212353255"
      ]
     },
     "execution_count": 31,
     "metadata": {},
     "output_type": "execute_result"
    }
   ],
   "source": [
    "df[(df[\"Edad\"]<30) & (df[\"Ciudad\"]==\"Bucaramanga\")]"
   ]
  },
  {
   "cell_type": "code",
   "execution_count": 38,
   "metadata": {},
   "outputs": [
    {
     "data": {
      "text/html": [
       "<div>\n",
       "<style scoped>\n",
       "    .dataframe tbody tr th:only-of-type {\n",
       "        vertical-align: middle;\n",
       "    }\n",
       "\n",
       "    .dataframe tbody tr th {\n",
       "        vertical-align: top;\n",
       "    }\n",
       "\n",
       "    .dataframe thead th {\n",
       "        text-align: right;\n",
       "    }\n",
       "</style>\n",
       "<table border=\"1\" class=\"dataframe\">\n",
       "  <thead>\n",
       "    <tr style=\"text-align: right;\">\n",
       "      <th></th>\n",
       "      <th>Nombre</th>\n",
       "      <th>Género</th>\n",
       "      <th>Ciudad</th>\n",
       "      <th>Edad</th>\n",
       "      <th>Telefono</th>\n",
       "    </tr>\n",
       "  </thead>\n",
       "  <tbody>\n",
       "    <tr>\n",
       "      <th>Uno</th>\n",
       "      <td>Helena</td>\n",
       "      <td>F</td>\n",
       "      <td>Bucaramanga</td>\n",
       "      <td>12</td>\n",
       "      <td>3212353255</td>\n",
       "    </tr>\n",
       "    <tr>\n",
       "      <th>Dos</th>\n",
       "      <td>Esteban</td>\n",
       "      <td>M</td>\n",
       "      <td>Medellín</td>\n",
       "      <td>22</td>\n",
       "      <td>3189456214</td>\n",
       "    </tr>\n",
       "    <tr>\n",
       "      <th>Tres</th>\n",
       "      <td>Edith</td>\n",
       "      <td>F</td>\n",
       "      <td>Bucaramanga</td>\n",
       "      <td>59</td>\n",
       "      <td>3158052333</td>\n",
       "    </tr>\n",
       "    <tr>\n",
       "      <th>Cuatro</th>\n",
       "      <td>Jairo</td>\n",
       "      <td>M</td>\n",
       "      <td>Cúcuta</td>\n",
       "      <td>58</td>\n",
       "      <td>3213213214</td>\n",
       "    </tr>\n",
       "    <tr>\n",
       "      <th>Cinco</th>\n",
       "      <td>Jose</td>\n",
       "      <td>M</td>\n",
       "      <td>Cali</td>\n",
       "      <td>45</td>\n",
       "      <td>3001234567</td>\n",
       "    </tr>\n",
       "  </tbody>\n",
       "</table>\n",
       "</div>"
      ],
      "text/plain": [
       "         Nombre Género       Ciudad  Edad    Telefono\n",
       "Uno      Helena      F  Bucaramanga    12  3212353255\n",
       "Dos     Esteban      M     Medellín    22  3189456214\n",
       "Tres      Edith      F  Bucaramanga    59  3158052333\n",
       "Cuatro    Jairo      M       Cúcuta    58  3213213214\n",
       "Cinco      Jose      M         Cali    45  3001234567"
      ]
     },
     "execution_count": 38,
     "metadata": {},
     "output_type": "execute_result"
    }
   ],
   "source": [
    "df[\"Ciudad\"]=df[\"Ciudad\"].replace(\"Medellin\",\"Medellín\")\n",
    "df"
   ]
  },
  {
   "cell_type": "code",
   "execution_count": 40,
   "metadata": {},
   "outputs": [
    {
     "data": {
      "text/plain": [
       "array(['Bucaramanga', 'Medellín', 'Cúcuta', 'Cali'], dtype=object)"
      ]
     },
     "execution_count": 40,
     "metadata": {},
     "output_type": "execute_result"
    }
   ],
   "source": [
    "df[\"Ciudad\"].unique()"
   ]
  },
  {
   "cell_type": "code",
   "execution_count": 45,
   "metadata": {},
   "outputs": [
    {
     "data": {
      "text/plain": [
       "Ciudad\n",
       "Bucaramanga    2\n",
       "Cali           1\n",
       "Cúcuta         1\n",
       "Medellín       1\n",
       "Name: Ciudad, dtype: int64"
      ]
     },
     "execution_count": 45,
     "metadata": {},
     "output_type": "execute_result"
    }
   ],
   "source": [
    "df[\"Ciudad\"].groupby([df.Ciudad]).agg(\"count\") #Agrupo y cuento cuantos registros"
   ]
  },
  {
   "cell_type": "code",
   "execution_count": 3,
   "metadata": {},
   "outputs": [
    {
     "data": {
      "text/plain": [
       "<AxesSubplot:ylabel='Ciudad'>"
      ]
     },
     "execution_count": 3,
     "metadata": {},
     "output_type": "execute_result"
    },
    {
     "data": {
      "image/png": "[encoded data removed]",
      "text/plain": [
       "<Figure size 360x288 with 1 Axes>"
      ]
     },
     "metadata": {},
     "output_type": "display_data"
    }
   ],
   "source": [
    "df[\"Ciudad\"].groupby([df.Ciudad]).agg(\"count\").plot(kind=\"pie\", figsize=(5,4))\n"
   ]
  }
 ],
 "metadata": {
  "kernelspec": {
   "display_name": "Python 3.10.4 64-bit",
   "language": "python",
   "name": "python3"
  },
  "language_info": {
   "codemirror_mode": {
    "name": "ipython",
    "version": 3
   },
   "file_extension": ".py",
   "mimetype": "text/x-python",
   "name": "python",
   "nbconvert_exporter": "python",
   "pygments_lexer": "ipython3",
   "version": "3.10.4"
  },
  "orig_nbformat": 4,
  "vscode": {
   "interpreter": {
    "hash": "e5b601285baacb963d8b8dafef095925879e1b0efa33c98d44e1c3b00d03c830"
   }
  }
 },
 "nbformat": 4,
 "nbformat_minor": 2
}

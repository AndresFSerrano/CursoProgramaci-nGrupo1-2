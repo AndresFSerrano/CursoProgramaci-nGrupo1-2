{
 "cells": [
  {
   "cell_type": "markdown",
   "metadata": {},
   "source": [
    "# Reto 2 (AS)"
   ]
  },
  {
   "cell_type": "code",
   "execution_count": null,
   "metadata": {},
   "outputs": [],
   "source": [
    "def veterinaria(nombres, tipos, edades, pesos):\n",
    "    # ACÁ INICIA LA FUNCIÓN VETERINARIA\n",
    "\n",
    "    diccionario={}\n",
    "    for i in range(len(nombres)):\n",
    "        lista=[nombres[i],tipos[i],edades[i],pesos[i]]\n",
    "        diccionario[str(i+1)]=lista\n",
    "    \n",
    "    beneficiarios_can_fel={}\n",
    "    edadesparasuma2=[]\n",
    "    k=0\n",
    "    for i in range(len(nombres)):\n",
    "        if edades[i]>=9 and (tipos[i]=='canino' or tipos[i]=='felino'): \n",
    "            k+=1\n",
    "            edadesparasuma2.append(edades[i])\n",
    "            lista=[nombres[i],tipos[i],pesos[i]]\n",
    "            beneficiarios_can_fel[str(k)]=lista\n",
    "    \n",
    "    while True:\n",
    "        try:\n",
    "            promedio_can_fel=sum(edadesparasuma2)/len(edadesparasuma2)\n",
    "            break\n",
    "        except ZeroDivisionError:\n",
    "            promedio_can_fel=None\n",
    "            break\n",
    "    beneficiarios_equ_bov={}\n",
    "    k=0\n",
    "    edadesparasuma3=[]\n",
    "    for i in range(len(nombres)):\n",
    "        if edades[i]>=16 and (tipos[i]=='equino' or tipos[i]=='bovino'): \n",
    "            k+=1\n",
    "            edadesparasuma3.append(edades[i])\n",
    "            lista=[nombres[i],tipos[i],pesos[i]]\n",
    "            beneficiarios_equ_bov[str(k)]=lista\n",
    "       \n",
    "    while True:\n",
    "        try:\n",
    "            promedio_equ_bov=sum(edadesparasuma3)/len(edadesparasuma3)\n",
    "            break\n",
    "        except ZeroDivisionError:\n",
    "            promedio_equ_bov=None\n",
    "            break\n",
    "    return diccionario, beneficiarios_can_fel, beneficiarios_equ_bov, promedio_can_fel, promedio_equ_bov"
   ]
  }
 ],
 "metadata": {
  "language_info": {
   "name": "python"
  },
  "orig_nbformat": 4
 },
 "nbformat": 4,
 "nbformat_minor": 2
}

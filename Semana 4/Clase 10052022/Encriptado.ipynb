{
 "cells": [
  {
   "cell_type": "markdown",
   "metadata": {},
   "source": [
    "# Ejercicio 1 # \n"
   ]
  },
  {
   "cell_type": "code",
   "execution_count": 46,
   "metadata": {},
   "outputs": [],
   "source": [
    "cripto={'A':'€', 'B':'$', 'C':'¢', 'D':'£','E':'¥', 'F':'₡',\n",
    "        'G':'₽','H':'©️','I':'®️','J':'¶','K':'§',\n",
    "        'L':'◊','M':'฿','N':'@','O':'¯','P':'-',\n",
    "        'Q':'_','R':'∂','S':'₿','T':'/','U':'|',\n",
    "        'V':'{','W':'†','X':'‡','Y':'µ','Z':'π', ' ':'∞', '!':'∏',\n",
    "        '¡':'√','?':'#','¿':'%','a':'ą','b':'ã','c':'é','d':'ë',\n",
    "        'e':'ł','f':'ń','g':'ò','h':'ó','i':'*','j':'ô','k':'ù','l':'ż',\n",
    "        'm':'Ą','n':'Ã','ñ':'É','o':'Ë','p':'Ł','q':'Ń','r':'Ò',\n",
    "        's':'Ó','t':'Ô','u':'Ù','v':'Ż','w':'Ý','x':'Ð','y':'Þ','z':'Æ'}\n",
    "#Se almacena el mensaje en la memoria\n",
    "mensaje=input(\"Ingrese el mensaje a encriptar: \")\n",
    "unicos=list(mensaje)\n",
    "unicos = set(unicos)\n",
    "miniDic={}\n",
    "for letra in unicos:\n",
    "    miniDic[letra]=cripto[letra]\n",
    "    \n",
    "menOculto=\"\"\n",
    "for i in mensaje:\n",
    "    menOculto=menOculto+miniDic[i]\n",
    "\n",
    "\n",
    "    "
   ]
  },
  {
   "cell_type": "code",
   "execution_count": 47,
   "metadata": {},
   "outputs": [
    {
     "data": {
      "text/plain": [
       "('◊Ù*Ó∞{*żżąëą',\n",
       " {'i': '*',\n",
       "  'a': 'ą',\n",
       "  'L': '◊',\n",
       "  'd': 'ë',\n",
       "  'l': 'ż',\n",
       "  's': 'Ó',\n",
       "  'V': '{',\n",
       "  ' ': '∞',\n",
       "  'u': 'Ù'})"
      ]
     },
     "execution_count": 47,
     "metadata": {},
     "output_type": "execute_result"
    }
   ],
   "source": [
    "menOculto, miniDic"
   ]
  },
  {
   "cell_type": "markdown",
   "metadata": {},
   "source": [
    "# Ejercicio 2 #"
   ]
  },
  {
   "cell_type": "code",
   "execution_count": 50,
   "metadata": {},
   "outputs": [
    {
     "name": "stdout",
     "output_type": "stream",
     "text": [
      "Su mensaje a traducir desencriptar es: ◊Ù*Ó∞{*żżąëą y dio como resultado Luis Villada\n"
     ]
    }
   ],
   "source": [
    "mensaje='◊Ù*Ó∞{*żżąëą'\n",
    "listakeys=list(cripto.keys())\n",
    "listavalores=list(cripto.values())\n",
    "\n",
    "texto=''\n",
    "for valor in mensaje:\n",
    "    indice=listavalores.index(valor)\n",
    "    texto=texto+listakeys[indice]\n",
    "\n",
    "print(f'Su mensaje a traducir desencriptar es: {mensaje} y dio como resultado {texto}')"
   ]
  }
 ],
 "metadata": {
  "kernelspec": {
   "display_name": "Python 3.9.7 ('base')",
   "language": "python",
   "name": "python3"
  },
  "language_info": {
   "codemirror_mode": {
    "name": "ipython",
    "version": 3
   },
   "file_extension": ".py",
   "mimetype": "text/x-python",
   "name": "python",
   "nbconvert_exporter": "python",
   "pygments_lexer": "ipython3",
   "version": "3.9.7"
  },
  "orig_nbformat": 4,
  "vscode": {
   "interpreter": {
    "hash": "329665b8f65c3461028bc77db2f6cd62d5c9fe66dc7986b2858d5fed83530e17"
   }
  }
 },
 "nbformat": 4,
 "nbformat_minor": 2
}

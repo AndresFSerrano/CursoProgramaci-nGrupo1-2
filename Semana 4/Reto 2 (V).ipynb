{
 "cells": [
  {
   "cell_type": "code",
   "execution_count": null,
   "metadata": {},
   "outputs": [],
   "source": [
    "from string import ascii_uppercase as alfabeto\n",
    "\n",
    "def encriptador(mensaje):\n",
    "    unicos=list(mensaje)\n",
    "    unicos=set(unicos)\n",
    "    clave=dict(zip(unicos,alfabeto))\n",
    "    minidic={}\n",
    "    for letra in unicos:\n",
    "        minidic[letra]=clave[letra]\n",
    "    encriptado=\"\"\n",
    "    for i in mensaje:\n",
    "        encriptado=encriptado + clave[i] \n",
    "    return encriptado, clave\n",
    "    \n",
    "def desencriptador(encriptado, clave):\n",
    "    listakeys=list(clave.keys())\n",
    "    listavalores=list(clave.values())\n",
    "    desencriptado=''\n",
    "    for valor in encriptado:\n",
    "        indice=listavalores.index(valor)\n",
    "        desencriptado=desencriptado+listakeys[indice]\n",
    "    return desencriptado"
   ]
  }
 ],
 "metadata": {
  "language_info": {
   "name": "python"
  },
  "orig_nbformat": 4
 },
 "nbformat": 4,
 "nbformat_minor": 2
}

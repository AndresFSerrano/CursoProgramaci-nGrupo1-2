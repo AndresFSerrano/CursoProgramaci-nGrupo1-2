{
 "cells": [
  {
   "cell_type": "code",
   "execution_count": null,
   "metadata": {},
   "outputs": [],
   "source": [
    "# POR FAVOR LEA TODAS LAS INDICACIONES SUMINISTRADAS EN EL \n",
    "# ENUNCIADO ANTES DE EMPEZAR A IMPLEMENTAR SU SOLUCIÓN\n",
    "\n",
    "# NO ELIMINAR LA IMPORTACIÓN\n",
    "from string import ascii_uppercase as alfabeto\n",
    "\n",
    "# NO MODIFICAR LOS NOMBRES, PARÁMETROS O RETORNOS DE LAS FUNCIONES\n",
    "def encriptador(mensaje):\n",
    "    # ACÁ INICIA LA FUNCIÓN ENCRIPTADOR\n",
    "    # (En este espacio debes poner el código necesario para encriptar)\n",
    "    \n",
    "    \n",
    "    \n",
    "    # ACÁ TERMINA LA FUNCIÓN ENCRIPTADOR\n",
    "    # NO MODIFIQUES LA SIGUIENTE LÍNEA\n",
    "    return encriptado, clave\n",
    "\n",
    "    \n",
    "def desencriptador(encriptado, clave):\n",
    "    # ACÁ INICIA LA FUNCIÓN DESENCRIPTADOR \n",
    "    # (En este espacio debes poner el código necesario para desencriptar)\n",
    "    \n",
    "    \n",
    "    \n",
    "    # ACÁ TERMINA LA FUNCIÓN DESENCRIPTADOR\n",
    "    # NO MODIFIQUES LA SIGUIENTE LÍNEA\n",
    "    return desencriptado\n",
    "\n"
   ]
  }
 ],
 "metadata": {
  "kernelspec": {
   "display_name": "Python 3.10.4 64-bit",
   "language": "python",
   "name": "python3"
  },
  "language_info": {
   "name": "python",
   "version": "3.10.4"
  },
  "orig_nbformat": 4,
  "vscode": {
   "interpreter": {
    "hash": "e5b601285baacb963d8b8dafef095925879e1b0efa33c98d44e1c3b00d03c830"
   }
  }
 },
 "nbformat": 4,
 "nbformat_minor": 2
}

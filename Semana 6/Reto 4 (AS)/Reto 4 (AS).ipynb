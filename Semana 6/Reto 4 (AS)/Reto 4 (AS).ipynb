{
 "cells": [
  {
   "cell_type": "markdown",
   "metadata": {},
   "source": [
    "# Reto 4 - AS"
   ]
  },
  {
   "cell_type": "code",
   "execution_count": 1,
   "metadata": {},
   "outputs": [],
   "source": [
    "def tiene_cartas_altas(cartas_siguientes):\n",
    "    for i in cartas_siguientes:\n",
    "        if i in 'KQJA':\n",
    "            return True\n",
    "    return not(True)\n",
    "    \n",
    "    \n",
    "def juego(baraja):\n",
    "    n=len(baraja)\n",
    "    j_actual='jugador1'\n",
    "    p_j1=0    \n",
    "    p_j2=0\n",
    "    for j,k in enumerate(baraja):\n",
    "        puntos=0\n",
    "        n_crestan=n-1-j\n",
    "        if k=='A' and n_crestan >= 1 and not(tiene_cartas_altas(baraja[j+1])):\n",
    "            puntos=1\n",
    "        elif k=='J' and n_crestan >= 2 and not(tiene_cartas_altas(baraja[j+1:j+3])):\n",
    "            puntos=2\n",
    "        elif k=='Q' and n_crestan >= 3 and not(tiene_cartas_altas(baraja[j+1:j+4])):\n",
    "            puntos=3\n",
    "        elif k=='K'and n_crestan >= 4 and not(tiene_cartas_altas(baraja[j+1:j+5])):\n",
    "            puntos=4\n",
    "        if j_actual=='jugador1':\n",
    "            p_j1= puntos + p_j1\n",
    "            j_actual='jugador2'\n",
    "        else:\n",
    "            p_j2=puntos+p_j2\n",
    "            j_actual='jugador1'\n",
    "    \n",
    "    return p_j1,p_j2\n"
   ]
  }
 ],
 "metadata": {
  "kernelspec": {
   "display_name": "Python 3.9.7 ('base')",
   "language": "python",
   "name": "python3"
  },
  "language_info": {
   "codemirror_mode": {
    "name": "ipython",
    "version": 3
   },
   "file_extension": ".py",
   "mimetype": "text/x-python",
   "name": "python",
   "nbconvert_exporter": "python",
   "pygments_lexer": "ipython3",
   "version": "3.9.7"
  },
  "orig_nbformat": 4,
  "vscode": {
   "interpreter": {
    "hash": "329665b8f65c3461028bc77db2f6cd62d5c9fe66dc7986b2858d5fed83530e17"
   }
  }
 },
 "nbformat": 4,
 "nbformat_minor": 2
}

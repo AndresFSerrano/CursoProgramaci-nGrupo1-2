{
 "cells": [
  {
   "cell_type": "markdown",
   "metadata": {},
   "source": [
    "# Reto 3 (V)"
   ]
  },
  {
   "cell_type": "code",
   "execution_count": 73,
   "metadata": {},
   "outputs": [],
   "source": [
    "import numpy as np\n",
    "import random\n",
    "\n",
    "def encriptado(texto):\n",
    "    medidaTexto=len(texto)\n",
    "    n=(medidaTexto)**(1/2)\n",
    "    if (n//1)!=n:\n",
    "        n=(n//1) +1\n",
    "    n=int(n)\n",
    "    for i in range(len(texto),n**2):\n",
    "        texto=texto+\"_\"\n",
    "    texto=list(texto)\n",
    "    \n",
    "    clave=[]\n",
    "    for i in range(len(texto)):\n",
    "        clave.append(i)\n",
    "    random.shuffle(clave)\n",
    "    desordenado=[]\n",
    "    for i in clave:\n",
    "        desordenado.append(ord(texto[i]))\n",
    "    array_encriptado = np.array(desordenado).reshape(n,n)\n",
    "    return array_encriptado, clave\n",
    "\n",
    "\n",
    "def desencriptado(array_encriptado, clave):\n",
    "    listadearray=array_encriptado.ravel().tolist()\n",
    "    ordenado=[]\n",
    "    for i in range(len(listadearray)):\n",
    "        posicion=clave.index(i)   \n",
    "        ordenado.append(chr(listadearray[posicion]))\n",
    "        \n",
    "    texto=\"\".join(ordenado)\n",
    "    texto=texto.replace(\"_\",\"\")\n",
    "    \n",
    "    return texto"
   ]
  },
  {
   "cell_type": "code",
   "execution_count": 74,
   "metadata": {},
   "outputs": [
    {
     "data": {
      "text/plain": [
       "'Today is Caturday!'"
      ]
     },
     "execution_count": 74,
     "metadata": {},
     "output_type": "execute_result"
    }
   ],
   "source": [
    "a,b=encriptado('Today is Caturday!')\n",
    "\n",
    "desencriptado(a,b)"
   ]
  },
  {
   "cell_type": "code",
   "execution_count": null,
   "metadata": {},
   "outputs": [],
   "source": []
  }
 ],
 "metadata": {
  "kernelspec": {
   "display_name": "Python 3.9.7 ('base')",
   "language": "python",
   "name": "python3"
  },
  "language_info": {
   "codemirror_mode": {
    "name": "ipython",
    "version": 3
   },
   "file_extension": ".py",
   "mimetype": "text/x-python",
   "name": "python",
   "nbconvert_exporter": "python",
   "pygments_lexer": "ipython3",
   "version": "3.9.7"
  },
  "orig_nbformat": 4,
  "vscode": {
   "interpreter": {
    "hash": "329665b8f65c3461028bc77db2f6cd62d5c9fe66dc7986b2858d5fed83530e17"
   }
  }
 },
 "nbformat": 4,
 "nbformat_minor": 2
}

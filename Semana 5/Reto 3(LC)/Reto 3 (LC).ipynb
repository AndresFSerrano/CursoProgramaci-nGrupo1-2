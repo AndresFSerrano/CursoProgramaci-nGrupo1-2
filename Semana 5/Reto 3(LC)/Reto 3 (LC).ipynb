{
 "cells": [
  {
   "cell_type": "markdown",
   "metadata": {},
   "source": [
    "# Reto 3 - LC\n"
   ]
  },
  {
   "cell_type": "code",
   "execution_count": null,
   "metadata": {},
   "outputs": [],
   "source": [
    "# POR FAVOR LEA TODAS LAS INDICACIONES SUMINISTRADAS EN EL \n",
    "# ENUNCIADO ANTES DE EMPEZAR A IMPLEMENTAR SU SOLUCIÓN.\n",
    "# NO ELIMINAR LAS IMPORTACIONES A CONTINUACIÓN. SU SOLUCIÓN\n",
    "# DEBE BASARSE EN EL USO DE ELLAS. SE RECOMIENDA ENSAYAR POR\n",
    "# APARTE SU PROPUESTA DE SOLUCIÓN USANDO LOS DATOS DE APOYO\n",
    "\n",
    "import numpy as np\n",
    "\n",
    "def clima(datos):\n",
    "    \n",
    "    #ESCRIBA EN ESTA REGIÓN SU PROPUESTA DE SOLUCIÓN PARA HALLAR LAS\n",
    "    #FECHAS DE LOS EVENTOS DEL TIEMPO MENCIONADOS EN EL ENUNCIADO.\n",
    "    #ATÉNGASE AL USO DE LOS RETORNOS PUESTOS AL FINAL DE ESTA FUNCIÓN\n",
    "\n",
    "    return fechas_temp_min, fechas_temp_max, fechas_precip_min, fechas_precip_max, fechas_max_dias_sol"
   ]
  }
 ],
 "metadata": {
  "language_info": {
   "name": "python"
  },
  "orig_nbformat": 4
 },
 "nbformat": 4,
 "nbformat_minor": 2
}

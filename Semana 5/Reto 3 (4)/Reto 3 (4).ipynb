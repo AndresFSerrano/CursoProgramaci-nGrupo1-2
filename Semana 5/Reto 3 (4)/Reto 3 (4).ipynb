{
 "cells": [
  {
   "cell_type": "markdown",
   "metadata": {},
   "source": [
    "# Reto 3 (4)"
   ]
  },
  {
   "cell_type": "code",
   "execution_count": 49,
   "metadata": {},
   "outputs": [
    {
     "name": "stdout",
     "output_type": "stream",
     "text": [
      "('3', 'K', 'A', '5', '10', '8', '9', 'J', '2', '7', 'Q', '6', '4', 'J', '5', '2', '7', '3', 'K', 'A', '8', '4', '6', '10', 'Q', '9', 'Q', '7', '8', '10', '4', '2', '9', 'J', '5', 'K', '3', '6', 'A', '3', '6', '5', '4', '7', '8', '10', 'K', '2', 'J', 'Q', 'A', '9')\n"
     ]
    }
   ],
   "source": [
    "import random\n",
    "def ListaDeListas(lista):\n",
    "    if type(lista) is list:\n",
    "        listadicional=[]\n",
    "        for k in lista:\n",
    "            if type(k) is  list:\n",
    "                for x in k:\n",
    "                    if type(x) is int or type(x) is str:\n",
    "                        listadicional.append(x)\n",
    "                    if type(x) is list:\n",
    "                        for b in x:\n",
    "                            listadicional.append(b)\n",
    "            else:\n",
    "                    listadicional.append(k)\n",
    "            lista=listadicional\n",
    "            retorno=lista\n",
    "    if not(type(lista) is list):\n",
    "        retorno=None\n",
    "        print(retorno)\n",
    "    return retorno\n",
    "\n",
    "\n",
    "def generar_baraja(tipos_cartas,n_palos):\n",
    "    b=[]\n",
    "    cartas_barajadas=[]\n",
    "    random.seed()\n",
    "    for i in range(n_palos):\n",
    "        a=random.sample(tipos_cartas,len(tipos_cartas))\n",
    "        b.append(a)\n",
    "    \n",
    "    cartas_barajadas=ListaDeListas(b)\n",
    "    cartas_barajadas=tuple(cartas_barajadas)\n",
    "    \n",
    "    return cartas_barajadas\n",
    "\n",
    "print(generar_baraja(tipos_cartas,n_palos))"
   ]
  }
 ],
 "metadata": {
  "kernelspec": {
   "display_name": "Python 3.9.7 ('base')",
   "language": "python",
   "name": "python3"
  },
  "language_info": {
   "codemirror_mode": {
    "name": "ipython",
    "version": 3
   },
   "file_extension": ".py",
   "mimetype": "text/x-python",
   "name": "python",
   "nbconvert_exporter": "python",
   "pygments_lexer": "ipython3",
   "version": "3.9.7"
  },
  "orig_nbformat": 4,
  "vscode": {
   "interpreter": {
    "hash": "329665b8f65c3461028bc77db2f6cd62d5c9fe66dc7986b2858d5fed83530e17"
   }
  }
 },
 "nbformat": 4,
 "nbformat_minor": 2
}

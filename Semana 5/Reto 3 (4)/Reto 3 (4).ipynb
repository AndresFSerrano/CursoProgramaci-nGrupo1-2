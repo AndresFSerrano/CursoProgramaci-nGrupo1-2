{
 "cells": [
  {
   "cell_type": "markdown",
   "metadata": {},
   "source": [
    "# Reto 3 (4)"
   ]
  },
  {
   "cell_type": "code",
   "execution_count": 27,
   "metadata": {},
   "outputs": [],
   "source": [
    "import random\n",
    "def generar_baraja(tipos_cartas,n_palos):\n",
    "    m=[]\n",
    "    cartas_barajadas=[]\n",
    "    random.seed()\n",
    "    for i in range(n_palos):\n",
    "        a=random.sample(tipos_cartas,len(tipos_cartas))\n",
    "        m.append(a)\n",
    "    \n",
    "    cartas_barajadas.append(m)\n",
    "    \n",
    "    lista=cartas_barajadas\n",
    "    if type(lista) is list:\n",
    "            listadicional=[]\n",
    "            for k in lista:\n",
    "                if type(k) is  list:\n",
    "                    for x in k:\n",
    "                        if type(x) is int or type(x) is str:\n",
    "                            listadicional.append(x)\n",
    "                        if type(x) is list:\n",
    "                            for b in x:\n",
    "                                listadicional.append(b)\n",
    "                else:\n",
    "                        listadicional.append(k)\n",
    "                lista=listadicional\n",
    "                retorno=lista\n",
    "                \n",
    "    cartas_barajadas=retorno\n",
    "    cartas_barajadas=tuple(cartas_barajadas)\n",
    "    \n",
    "    return cartas_barajadas"
   ]
  },
  {
   "cell_type": "code",
   "execution_count": 26,
   "metadata": {},
   "outputs": [
    {
     "name": "stdout",
     "output_type": "stream",
     "text": [
      "('K', '6', '8', '3', 'Q', '4', '2', '7', '9', 'A', '10', 'J', '5', 'Q', 'A', '8', '10', '9', '5', '4', 'K', '6', 'J', '2', '3', '7', '5', 'J', '2', '10', 'K', 'A', 'Q', '4', '8', '3', '9', '6', '7', '4', 'Q', '3', 'A', '8', '10', '7', '5', 'J', '2', '6', 'K', '9')\n"
     ]
    }
   ],
   "source": [
    "print(generar_baraja(['A', '2', '3', '4', '5', '6', '7', '8', '9', '10', 'J', 'Q', 'K'],4))"
   ]
  }
 ],
 "metadata": {
  "kernelspec": {
   "display_name": "Python 3.9.7 ('base')",
   "language": "python",
   "name": "python3"
  },
  "language_info": {
   "codemirror_mode": {
    "name": "ipython",
    "version": 3
   },
   "file_extension": ".py",
   "mimetype": "text/x-python",
   "name": "python",
   "nbconvert_exporter": "python",
   "pygments_lexer": "ipython3",
   "version": "3.9.7"
  },
  "orig_nbformat": 4,
  "vscode": {
   "interpreter": {
    "hash": "329665b8f65c3461028bc77db2f6cd62d5c9fe66dc7986b2858d5fed83530e17"
   }
  }
 },
 "nbformat": 4,
 "nbformat_minor": 2
}

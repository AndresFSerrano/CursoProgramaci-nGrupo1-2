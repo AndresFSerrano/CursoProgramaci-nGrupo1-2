{
 "cells": [
  {
   "cell_type": "code",
   "execution_count": 71,
   "metadata": {},
   "outputs": [
    {
     "data": {
      "text/plain": [
       "['B9',\n",
       " 'B8',\n",
       " 'B14',\n",
       " 'B3',\n",
       " 'B1',\n",
       " 'I27',\n",
       " 'I21',\n",
       " 'I20',\n",
       " 'I19',\n",
       " 'I29',\n",
       " 'N41',\n",
       " 'N31',\n",
       " 'N37',\n",
       " 'N43',\n",
       " 'G49',\n",
       " 'G46',\n",
       " 'G57',\n",
       " 'G58',\n",
       " 'G55',\n",
       " 'O73',\n",
       " 'O61',\n",
       " 'O62',\n",
       " 'O65',\n",
       " 'O68']"
      ]
     },
     "execution_count": 71,
     "metadata": {},
     "output_type": "execute_result"
    }
   ],
   "source": [
    "import random\n",
    "\n",
    "balotas = [\"B1\", \"B2\", \"B3\",\"B4\",\"B5\",\"B6\",\"B7\",\"B8\",\"B9\",\"B10\",\"B11\",\"B12\",\"B13\",\"B14\",\"B15\", \"I16\", \"I17\", \"I18\",\"I19\",\"I20\",\"I21\",\"I22\"\n",
    ",\"I23\",\"I24\",\"I25\",\"I26\",\"I27\",\"I28\",\"I29\", \"I30\", \"N31\", \"N32\", \"N33\",\"N34\",\"N35\",\"N36\",\"N37\",\"N38\",\"N39\",\"N40\",\"N41\",\"N42\",\"N43\",\"N44\",\n",
    " \"N45\", \"G46\", \"G47\", \"G48\",\"G49\",\"G50\",\"G51\",\"G52\",\"G53\",\"G54\",\"G55\",\"G56\",\"G57\",\"G58\",\"G59\",\"G60\", \"O61\", \"O62\",\"O63\",\"O64\",\"O65\",\"O66\"\n",
    " ,\"O67\",\"O68\",\"O69\",\"O70\",\"O71\",\"O72\",\"O73\",\"O74\",\"O75\"]\n",
    "\n",
    "dicc={}\n",
    "claves=[]\n",
    "for i in range(len(balotas)):\n",
    "    dicc[i+1]=balotas[i]\n",
    "    claves.append(i+1)\n",
    "    \n",
    "clavesB5 = random.sample(range(1, 15), 5)\n",
    "clavesI5 = random.sample(range(16, 30), 5)\n",
    "clavesN4 = random.sample(range(31, 45), 4)\n",
    "clavesG5 = random.sample(range(46, 60), 5)\n",
    "clavesO5 = random.sample(range(61, 75), 5)\n",
    "\n",
    "claves=clavesB5+clavesI5+clavesN4+clavesG5+clavesO5\n",
    "\n",
    "listakeys=list(dicc.keys())\n",
    "listavalores=list(dicc.values())\n",
    "\n",
    "balotas_revueltas=[]\n",
    "\n",
    "for i in claves:\n",
    "    balotas_revueltas.append(dicc[i])\n",
    "\n",
    "balotas_revueltas"
   ]
  },
  {
   "cell_type": "code",
   "execution_count": null,
   "metadata": {},
   "outputs": [],
   "source": []
  }
 ],
 "metadata": {
  "interpreter": {
   "hash": "c428d4300b96006bd89c7861a64ca1379b2ef13eb8daabe066e18431431e18b4"
  },
  "kernelspec": {
   "display_name": "Python 3.9.12 64-bit",
   "language": "python",
   "name": "python3"
  },
  "language_info": {
   "codemirror_mode": {
    "name": "ipython",
    "version": 3
   },
   "file_extension": ".py",
   "mimetype": "text/x-python",
   "name": "python",
   "nbconvert_exporter": "python",
   "pygments_lexer": "ipython3",
   "version": "3.9.12"
  },
  "orig_nbformat": 4
 },
 "nbformat": 4,
 "nbformat_minor": 2
}

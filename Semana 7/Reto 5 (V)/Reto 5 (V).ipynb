{
 "cells": [
  {
   "cell_type": "code",
   "execution_count": 32,
   "metadata": {},
   "outputs": [],
   "source": [
    "import csv\n",
    "import json\n",
    "\n",
    "def solucion():\n",
    "   archivo=open('GLOBANT.csv')\n",
    "   x=csv.reader(archivo)\n",
    "   Date=[]\n",
    "   Open=[]\n",
    "   High=[]\n",
    "   Low=[]\n",
    "   Close=[]\n",
    "   Adj_close=[]\n",
    "   Volume=[]\n",
    "\n",
    "   next(x,None)\n",
    "   for columna in x:\n",
    "      Date.append(columna[0])\n",
    "      Open.append(float(columna[1]))\n",
    "      High.append(float(columna[2]))\n",
    "      Low.append(float(columna[3]))\n",
    "      Close.append(float(columna[4]))\n",
    "      Adj_close.append(float(columna[5]))\n",
    "      Volume.append(int(columna[6]))   \n",
    "\n",
    "   archivo.close()\n",
    "   comportamiento=[]\n",
    "   media=[]\n",
    "   k=0\n",
    "   j=0\n",
    "   m=0\n",
    "   for i in range(len(Open)):\n",
    "      resta=Close[i]-Open[i]\n",
    "      media.append(0.5*(High[i]-Low[i]))\n",
    "      if resta>0:\n",
    "         comportamiento.append('SUBE')\n",
    "         k=k+1\n",
    "      elif resta<0:\n",
    "         comportamiento.append('BAJA')\n",
    "         j=j+1\n",
    "      elif resta==0:\n",
    "         comportamiento.append('ESTABLE')\n",
    "         m=m+1\n",
    "\n",
    "   #Creación de archivo CSV\n",
    "   with open('analisis_archivo.csv','w') as file:\n",
    "      file.write('Fecha\\tComportamiento de la accion\\tPunto medio HIGH-LOW\\n')\n",
    "\n",
    "      for i in range(len(Date)):\n",
    "         file.write('%s\\t' % Date[i])\n",
    "         file.write('%s\\t' % comportamiento[i])\n",
    "         file.write('%s\\n' % media[i])\n",
    "      file.close()\n",
    "   #Creación de archivo JSON\n",
    "   data={}\n",
    "   lowest=min(Low)\n",
    "   highest=max(High)\n",
    "   for i in range(len(Date)):\n",
    "      if lowest==Low[i]:\n",
    "         data['date_lowest_price']=Date[i]\n",
    "         data['lowest_price']=Low[i]\n",
    "      if highest==High[i]:\n",
    "         data['date_highest_price']=Date[i]\n",
    "         data['highest_price']=High[i]\n",
    "\n",
    "   data['cantidad_veces_sube']=k\n",
    "   data['cantidad_veces_baja']=j\n",
    "   data['cantidad_veces_estable']=m\n",
    "\n",
    "   with open('detalles.json','w') as file:\n",
    "      json.dump(data,file)\n"
   ]
  },
  {
   "cell_type": "code",
   "execution_count": 33,
   "metadata": {},
   "outputs": [],
   "source": [
    "solucion()"
   ]
  }
 ],
 "metadata": {
  "kernelspec": {
   "display_name": "Python 3.9.7 ('base')",
   "language": "python",
   "name": "python3"
  },
  "language_info": {
   "codemirror_mode": {
    "name": "ipython",
    "version": 3
   },
   "file_extension": ".py",
   "mimetype": "text/x-python",
   "name": "python",
   "nbconvert_exporter": "python",
   "pygments_lexer": "ipython3",
   "version": "3.9.7"
  },
  "orig_nbformat": 4,
  "vscode": {
   "interpreter": {
    "hash": "329665b8f65c3461028bc77db2f6cd62d5c9fe66dc7986b2858d5fed83530e17"
   }
  }
 },
 "nbformat": 4,
 "nbformat_minor": 2
}

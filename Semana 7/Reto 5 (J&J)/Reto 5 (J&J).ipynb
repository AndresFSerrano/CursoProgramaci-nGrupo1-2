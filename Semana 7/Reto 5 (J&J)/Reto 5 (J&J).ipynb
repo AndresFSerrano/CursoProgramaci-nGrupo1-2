{
 "cells": [
  {
   "cell_type": "markdown",
   "metadata": {},
   "source": [
    "# RETO 5 (J&J)"
   ]
  },
  {
   "cell_type": "code",
   "execution_count": 10,
   "metadata": {},
   "outputs": [],
   "source": [
    "import csv, json\n",
    "def solucion():\n",
    "    archivo=open('JandJ.csv')\n",
    "    x=csv.reader(archivo)\n",
    "    Date=[]\n",
    "    Open=[]\n",
    "    High=[]\n",
    "    Low=[]\n",
    "    Close=[]\n",
    "    Adj_Close=[]\n",
    "    Volume=[]\n",
    "    \n",
    "    next(x,None)\n",
    "    for i in x:\n",
    "        Date.append(i[0])\n",
    "        Open.append(float(i[1]))\n",
    "        High.append(float(i[2]))\n",
    "        Low.append(float(i[3]))\n",
    "        Close.append(float(i[4]))\n",
    "        Adj_Close.append(float(i[5]))\n",
    "        Volume.append(int(i[6]))\n",
    "    \n",
    "    archivo.close()\n",
    "    n=len(Date)\n",
    "    alza=[]\n",
    "    Abs=[]\n",
    "    for i in range(n):\n",
    "        resta=Close[i]-Open[i]\n",
    "        Abs.append(abs(Close[i]-Open[i]))\n",
    "        if resta>0:\n",
    "            alza.append('SUBE')\n",
    "        elif resta<0:\n",
    "            alza.append('BAJA')\n",
    "        elif resta==0:\n",
    "            alza.append('ESTABLE')\n",
    "        \n",
    "            \n",
    "    #Creación de archivo CSV\n",
    "    with open('analisis_archivo.csv','w') as file:\n",
    "        file.write('Fecha analizada\\tComportamiento de la accion\\tabs Diferencia Close-Open\\n')\n",
    "        for i in range(n):\n",
    "            file.write('%s\\t' % Date[i])\n",
    "            file.write('%s\\t' % alza[i])\n",
    "            file.write('%s\\n' % Abs[i])\n",
    "        file.close()\n",
    "    \n",
    "    dic={}\n",
    "    lowest=min(Volume)\n",
    "    highest=max(Volume)\n",
    "    mean=sum(Volume)/len(Volume)\n",
    "    greatest=max(Abs)\n",
    "    \n",
    "    for i in range(n):\n",
    "        if Volume[i]==lowest:\n",
    "            dic['date_lowest_volume']=Date[i]\n",
    "            dic['lowest_volume']=lowest\n",
    "        if Volume[i]==highest:\n",
    "            dic['date_highest_volume']=Date[i]\n",
    "            dic['highest_volume']=highest\n",
    "        dic['mean_volume']=mean\n",
    "        if Abs[i]==greatest:\n",
    "            dic['date_greatest_difference']=Date[i]\n",
    "            dic['greatest_difference']=greatest\n",
    "    with open('detalles.json','w') as file:\n",
    "        json.dump(dic,file)"
   ]
  }
 ],
 "metadata": {
  "kernelspec": {
   "display_name": "Python 3.9.7 ('base')",
   "language": "python",
   "name": "python3"
  },
  "language_info": {
   "codemirror_mode": {
    "name": "ipython",
    "version": 3
   },
   "file_extension": ".py",
   "mimetype": "text/x-python",
   "name": "python",
   "nbconvert_exporter": "python",
   "pygments_lexer": "ipython3",
   "version": "3.9.7"
  },
  "orig_nbformat": 4,
  "vscode": {
   "interpreter": {
    "hash": "329665b8f65c3461028bc77db2f6cd62d5c9fe66dc7986b2858d5fed83530e17"
   }
  }
 },
 "nbformat": 4,
 "nbformat_minor": 2
}

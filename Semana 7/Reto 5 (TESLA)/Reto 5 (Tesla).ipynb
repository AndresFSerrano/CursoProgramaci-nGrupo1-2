{
 "cells": [
  {
   "cell_type": "markdown",
   "metadata": {},
   "source": [
    "# RETO 5 (TESLA)"
   ]
  },
  {
   "cell_type": "code",
   "execution_count": 1,
   "metadata": {},
   "outputs": [],
   "source": [
    "import csv, json\n",
    "def solucion():\n",
    "    archivo=open('TESLA.csv')\n",
    "    x=csv.reader(archivo)\n",
    "    Date=[]\n",
    "    Open=[]\n",
    "    High=[]\n",
    "    Low=[]\n",
    "    Close=[]\n",
    "    Adj_Close=[]\n",
    "    Volume=[]\n",
    "    \n",
    "    next(x,None)\n",
    "    for i in x:\n",
    "        Date.append(i[0])\n",
    "        Open.append(float(i[1]))\n",
    "        High.append(float(i[2]))\n",
    "        Low.append(float(i[3]))\n",
    "        Close.append(float(i[4]))\n",
    "        Adj_Close.append(float(i[5]))\n",
    "        Volume.append(int(i[6]))\n",
    "    \n",
    "    archivo.close()\n",
    "    n=len(Date)\n",
    "    alza=[]\n",
    "    Abs=[]\n",
    "    s=[]\n",
    "    for i in range(n):\n",
    "        resta=Close[i]-Open[i]\n",
    "        Abs.append(abs(Close[i]-Adj_Close[i]))\n",
    "        s.append(abs(Low[i]-High[i]))\n",
    "        if resta>0:\n",
    "            alza.append('SUBE')\n",
    "        elif resta<0:\n",
    "            alza.append('BAJA')\n",
    "        elif resta==0:\n",
    "            alza.append('ESTABLE')\n",
    "        \n",
    "            \n",
    "    #Creación de archivo CSV\n",
    "    with open('analisis_archivo.csv','w') as file:\n",
    "        file.write('Fecha\\tComportamiento de la accion\\tAjuste Cuadratico de Close\\n')\n",
    "        for i in range(n):\n",
    "            file.write('%s\\t' % Date[i])\n",
    "            file.write('%s\\t' % alza[i])\n",
    "            file.write('%s\\n' % Abs[i])\n",
    "        file.close()\n",
    "    \n",
    "    dic={}\n",
    "    lowest=min(Open)\n",
    "    highest=max(Close)\n",
    "    mean=sum(Volume)/len(Volume)\n",
    "    greatest=max(s)\n",
    "    \n",
    "    for i in range(n):\n",
    "        if  Open[i]==lowest:\n",
    "            dic['date_lowest_open']=Date[i]\n",
    "            dic['lowest_open']=lowest\n",
    "        if Close[i]==highest:\n",
    "            dic['date_highest_close']=Date[i]\n",
    "            dic['highest_close']=highest\n",
    "        dic['mean_volume']=mean\n",
    "        if s[i]==greatest:\n",
    "            dic['date_greatest_difference']=Date[i]\n",
    "            dic['greatest_difference']=greatest\n",
    "    with open('detalles.json','w') as file:\n",
    "        json.dump(dic,file)"
   ]
  },
  {
   "cell_type": "code",
   "execution_count": 2,
   "metadata": {},
   "outputs": [],
   "source": [
    "solucion()"
   ]
  }
 ],
 "metadata": {
  "kernelspec": {
   "display_name": "Python 3.9.7 ('base')",
   "language": "python",
   "name": "python3"
  },
  "language_info": {
   "codemirror_mode": {
    "name": "ipython",
    "version": 3
   },
   "file_extension": ".py",
   "mimetype": "text/x-python",
   "name": "python",
   "nbconvert_exporter": "python",
   "pygments_lexer": "ipython3",
   "version": "3.9.7"
  },
  "orig_nbformat": 4,
  "vscode": {
   "interpreter": {
    "hash": "329665b8f65c3461028bc77db2f6cd62d5c9fe66dc7986b2858d5fed83530e17"
   }
  }
 },
 "nbformat": 4,
 "nbformat_minor": 2
}
